{
 "cells": [
  {
   "cell_type": "markdown",
   "metadata": {},
   "source": [
    "### Pyspark DataFrames \n",
    " - Filter Operation \n",
    " - &,|,==\n",
    " - ~"
   ]
  },
  {
   "cell_type": "code",
   "execution_count": 1,
   "metadata": {},
   "outputs": [],
   "source": [
    "from pyspark.sql import SparkSession"
   ]
  },
  {
   "cell_type": "code",
   "execution_count": 2,
   "metadata": {},
   "outputs": [],
   "source": [
    "Spark=SparkSession.builder.appName('FilterPraactice').getOrCreate()"
   ]
  },
  {
   "cell_type": "code",
   "execution_count": 6,
   "metadata": {},
   "outputs": [],
   "source": [
    "df_pyspark=Spark.read.csv('FilterData.csv',header=True,inferSchema=True)"
   ]
  },
  {
   "cell_type": "code",
   "execution_count": 8,
   "metadata": {},
   "outputs": [
    {
     "data": {
      "text/plain": [
       "DataFrame[Name: string, Age: int, Expirience: int, Salary: int]"
      ]
     },
     "execution_count": 8,
     "metadata": {},
     "output_type": "execute_result"
    }
   ],
   "source": [
    "df_pyspark"
   ]
  },
  {
   "cell_type": "code",
   "execution_count": 9,
   "metadata": {},
   "outputs": [
    {
     "name": "stdout",
     "output_type": "stream",
     "text": [
      "+--------+---+----------+------+\n",
      "|    Name|Age|Expirience|Salary|\n",
      "+--------+---+----------+------+\n",
      "| Avinash| 28|         4|100000|\n",
      "|SaiPriya| 26|         2| 80000|\n",
      "|   Anuja| 22|         3| 77000|\n",
      "| Shubhee| 27|         4| 81000|\n",
      "|Priyanka| 25|         3| 68000|\n",
      "|   Pooja| 24|         3| 50000|\n",
      "|   Komal| 28|         6| 44000|\n",
      "| Harshda| 29|         5| 93000|\n",
      "|  Amruta| 21|         3| 44000|\n",
      "+--------+---+----------+------+\n",
      "\n"
     ]
    }
   ],
   "source": [
    "df_pyspark.show()"
   ]
  },
  {
   "cell_type": "markdown",
   "metadata": {},
   "source": [
    "### Filter Operation using Pyspark\n"
   ]
  },
  {
   "cell_type": "code",
   "execution_count": 10,
   "metadata": {},
   "outputs": [
    {
     "name": "stdout",
     "output_type": "stream",
     "text": [
      "+--------+---+----------+------+\n",
      "|    Name|Age|Expirience|Salary|\n",
      "+--------+---+----------+------+\n",
      "|Priyanka| 25|         3| 68000|\n",
      "|   Pooja| 24|         3| 50000|\n",
      "|   Komal| 28|         6| 44000|\n",
      "|  Amruta| 21|         3| 44000|\n",
      "+--------+---+----------+------+\n",
      "\n"
     ]
    }
   ],
   "source": [
    "# find out salary less than or equal to 70000\n",
    "df_pyspark.filter('Salary<=70000').show()               # 1st method "
   ]
  },
  {
   "cell_type": "code",
   "execution_count": 11,
   "metadata": {},
   "outputs": [
    {
     "name": "stdout",
     "output_type": "stream",
     "text": [
      "+--------+---+\n",
      "|    Name|Age|\n",
      "+--------+---+\n",
      "|Priyanka| 25|\n",
      "|   Pooja| 24|\n",
      "|   Komal| 28|\n",
      "|  Amruta| 21|\n",
      "+--------+---+\n",
      "\n"
     ]
    }
   ],
   "source": [
    "df_pyspark.filter('Salary<=70000').select(['Name','Age']).show()    # only selected columns"
   ]
  },
  {
   "cell_type": "code",
   "execution_count": 13,
   "metadata": {},
   "outputs": [
    {
     "name": "stdout",
     "output_type": "stream",
     "text": [
      "+--------+---+----------+------+\n",
      "|    Name|Age|Expirience|Salary|\n",
      "+--------+---+----------+------+\n",
      "|Priyanka| 25|         3| 68000|\n",
      "|   Pooja| 24|         3| 50000|\n",
      "|   Komal| 28|         6| 44000|\n",
      "|  Amruta| 21|         3| 44000|\n",
      "+--------+---+----------+------+\n",
      "\n"
     ]
    }
   ],
   "source": [
    "df_pyspark.filter(df_pyspark['Salary']<=70000).show()   # 2nd method"
   ]
  },
  {
   "cell_type": "code",
   "execution_count": 17,
   "metadata": {},
   "outputs": [
    {
     "name": "stdout",
     "output_type": "stream",
     "text": [
      "+--------+---+----------+------+\n",
      "|    Name|Age|Expirience|Salary|\n",
      "+--------+---+----------+------+\n",
      "|SaiPriya| 26|         2| 80000|\n",
      "|   Anuja| 22|         3| 77000|\n",
      "+--------+---+----------+------+\n",
      "\n"
     ]
    }
   ],
   "source": [
    "df_pyspark.filter((df_pyspark['Salary']>=70000) & (df_pyspark['Salary']<=80000)).show()   # using & operator we can give multiple conditions"
   ]
  },
  {
   "cell_type": "code",
   "execution_count": 18,
   "metadata": {},
   "outputs": [
    {
     "name": "stdout",
     "output_type": "stream",
     "text": [
      "+--------+---+----------+------+\n",
      "|    Name|Age|Expirience|Salary|\n",
      "+--------+---+----------+------+\n",
      "| Avinash| 28|         4|100000|\n",
      "|SaiPriya| 26|         2| 80000|\n",
      "|   Anuja| 22|         3| 77000|\n",
      "| Shubhee| 27|         4| 81000|\n",
      "|Priyanka| 25|         3| 68000|\n",
      "|   Pooja| 24|         3| 50000|\n",
      "|   Komal| 28|         6| 44000|\n",
      "| Harshda| 29|         5| 93000|\n",
      "|  Amruta| 21|         3| 44000|\n",
      "+--------+---+----------+------+\n",
      "\n"
     ]
    }
   ],
   "source": [
    "df_pyspark.filter((df_pyspark['Salary']>=70000) | (df_pyspark['Salary']<=80000)).show() "
   ]
  },
  {
   "cell_type": "code",
   "execution_count": 19,
   "metadata": {},
   "outputs": [
    {
     "name": "stdout",
     "output_type": "stream",
     "text": [
      "+--------+---+----------+------+\n",
      "|    Name|Age|Expirience|Salary|\n",
      "+--------+---+----------+------+\n",
      "| Avinash| 28|         4|100000|\n",
      "|SaiPriya| 26|         2| 80000|\n",
      "|   Anuja| 22|         3| 77000|\n",
      "| Shubhee| 27|         4| 81000|\n",
      "| Harshda| 29|         5| 93000|\n",
      "+--------+---+----------+------+\n",
      "\n"
     ]
    }
   ],
   "source": [
    "df_pyspark.filter(~(df_pyspark['Salary']<=70000)).show()    # ~ not Operator"
   ]
  },
  {
   "cell_type": "code",
   "execution_count": null,
   "metadata": {},
   "outputs": [],
   "source": []
  }
 ],
 "metadata": {
  "kernelspec": {
   "display_name": "Python 3",
   "language": "python",
   "name": "python3"
  },
  "language_info": {
   "codemirror_mode": {
    "name": "ipython",
    "version": 3
   },
   "file_extension": ".py",
   "mimetype": "text/x-python",
   "name": "python",
   "nbconvert_exporter": "python",
   "pygments_lexer": "ipython3",
   "version": "3.7.3"
  }
 },
 "nbformat": 4,
 "nbformat_minor": 2
}
